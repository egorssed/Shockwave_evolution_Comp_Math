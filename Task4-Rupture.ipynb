{
 "cells": [
  {
   "cell_type": "code",
   "execution_count": 44,
   "metadata": {},
   "outputs": [
    {
     "ename": "ModuleNotFoundError",
     "evalue": "No module named 'tqdm'",
     "output_type": "error",
     "traceback": [
      "\u001b[1;31m---------------------------------------------------------------------------\u001b[0m",
      "\u001b[1;31mModuleNotFoundError\u001b[0m                       Traceback (most recent call last)",
      "\u001b[1;32m<ipython-input-44-2d80d12f9da7>\u001b[0m in \u001b[0;36m<module>\u001b[1;34m()\u001b[0m\n\u001b[0;32m      1\u001b[0m \u001b[1;32mimport\u001b[0m \u001b[0mnumpy\u001b[0m \u001b[1;32mas\u001b[0m \u001b[0mnp\u001b[0m\u001b[1;33m\u001b[0m\u001b[0m\n\u001b[0;32m      2\u001b[0m \u001b[1;32mimport\u001b[0m \u001b[0mmatplotlib\u001b[0m\u001b[1;33m.\u001b[0m\u001b[0mpyplot\u001b[0m \u001b[1;32mas\u001b[0m \u001b[0mplt\u001b[0m\u001b[1;33m\u001b[0m\u001b[0m\n\u001b[1;32m----> 3\u001b[1;33m \u001b[1;32mfrom\u001b[0m \u001b[0mtqdm\u001b[0m \u001b[1;32mimport\u001b[0m \u001b[0mtqdm_notebook\u001b[0m\u001b[1;33m\u001b[0m\u001b[0m\n\u001b[0m",
      "\u001b[1;31mModuleNotFoundError\u001b[0m: No module named 'tqdm'"
     ]
    }
   ],
   "source": [
    "import numpy as np\n",
    "import matplotlib.pyplot as plt\n",
    "from tqdm import tqdm_notebook"
   ]
  },
  {
   "cell_type": "code",
   "execution_count": 39,
   "metadata": {},
   "outputs": [],
   "source": [
    "#Initialization\n",
    "f=np.zeros((3,N+1,t_number))\n",
    "f_sm=np.zeros((3,N+1,t_number))\n",
    "f0 = np.zeros((3, N+1))\n",
    "f_middle = np.zeros((3, N+1))\n",
    "f1 = np.zeros((3, N+1))\n",
    "f1_smooth = np.zeros((3, N+1))\n",
    "Q_minus = np.zeros((3))\n",
    "Q_plus = np.zeros((3))\n",
    "\n",
    "p1 = 0.7\n",
    "p2 = 0.8\n",
    "ro1 = 0.9\n",
    "ro2 = 1.1\n",
    "u1 = 1\n",
    "u2 = 0.6"
   ]
  },
  {
   "cell_type": "code",
   "execution_count": 43,
   "metadata": {},
   "outputs": [
    {
     "ename": "NameError",
     "evalue": "name 'tqdm' is not defined",
     "output_type": "error",
     "traceback": [
      "\u001b[1;31m---------------------------------------------------------------------------\u001b[0m",
      "\u001b[1;31mNameError\u001b[0m                                 Traceback (most recent call last)",
      "\u001b[1;32m<ipython-input-43-36c7b270f3dc>\u001b[0m in \u001b[0;36m<module>\u001b[1;34m()\u001b[0m\n\u001b[0;32m      1\u001b[0m \u001b[1;31m#Calculation\u001b[0m\u001b[1;33m\u001b[0m\u001b[1;33m\u001b[0m\u001b[0m\n\u001b[0;32m      2\u001b[0m \u001b[0minitial\u001b[0m\u001b[1;33m(\u001b[0m\u001b[1;33m)\u001b[0m\u001b[1;33m\u001b[0m\u001b[0m\n\u001b[1;32m----> 3\u001b[1;33m \u001b[1;32mfor\u001b[0m \u001b[0mn\u001b[0m \u001b[1;32min\u001b[0m \u001b[0mtqdm\u001b[0m\u001b[1;33m(\u001b[0m\u001b[0mrange\u001b[0m\u001b[1;33m(\u001b[0m\u001b[1;36m0\u001b[0m\u001b[1;33m,\u001b[0m \u001b[0mt_number\u001b[0m\u001b[1;33m)\u001b[0m\u001b[1;33m)\u001b[0m\u001b[1;33m:\u001b[0m\u001b[1;33m\u001b[0m\u001b[0m\n\u001b[0m\u001b[0;32m      4\u001b[0m     \u001b[0mf\u001b[0m\u001b[1;33m[\u001b[0m\u001b[1;33m:\u001b[0m\u001b[1;33m]\u001b[0m\u001b[1;33m[\u001b[0m\u001b[1;33m:\u001b[0m\u001b[1;33m,\u001b[0m\u001b[0mn\u001b[0m\u001b[1;33m+\u001b[0m\u001b[1;36m1\u001b[0m\u001b[1;33m]\u001b[0m\u001b[1;33m=\u001b[0m\u001b[0mnextLayer\u001b[0m\u001b[1;33m(\u001b[0m\u001b[0mf\u001b[0m\u001b[1;33m,\u001b[0m\u001b[0mn\u001b[0m\u001b[1;33m,\u001b[0m\u001b[1;34m\"not smooth\"\u001b[0m\u001b[1;33m)\u001b[0m\u001b[1;33m\u001b[0m\u001b[0m\n\u001b[0;32m      5\u001b[0m     \u001b[0mf_sm\u001b[0m\u001b[1;33m[\u001b[0m\u001b[1;33m:\u001b[0m\u001b[1;33m]\u001b[0m\u001b[1;33m[\u001b[0m\u001b[1;33m:\u001b[0m\u001b[1;33m,\u001b[0m\u001b[0mn\u001b[0m\u001b[1;33m+\u001b[0m\u001b[1;36m1\u001b[0m\u001b[1;33m]\u001b[0m\u001b[1;33m=\u001b[0m\u001b[0mnextLayer\u001b[0m\u001b[1;33m(\u001b[0m\u001b[0mf\u001b[0m\u001b[1;33m,\u001b[0m\u001b[0mn\u001b[0m\u001b[1;33m,\u001b[0m\u001b[1;34m\"smooth\"\u001b[0m\u001b[1;33m)\u001b[0m\u001b[1;33m\u001b[0m\u001b[0m\n",
      "\u001b[1;31mNameError\u001b[0m: name 'tqdm' is not defined"
     ]
    }
   ],
   "source": [
    "#Calculation\n",
    "initial()\n",
    "for n in tqdm(range(0, t_number)):\n",
    "    f[:][:,n+1]=nextLayer(f,n,\"not smooth\")\n",
    "    f_sm[:][:,n+1]=nextLayer(f,n,\"smooth\")\n",
    "r_p_v=getOriginal_r_p_v(f)\n",
    "r_p_v_sm=getOriginal_r_p_v(f_sm)"
   ]
  },
  {
   "cell_type": "code",
   "execution_count": 32,
   "metadata": {},
   "outputs": [],
   "source": [
    "Courrant=0.01\n",
    "xleft = 0\n",
    "xright = 2\n",
    "xmiddle = 1\n",
    "h = (xright-xleft)/700\n",
    "T = 0.1\n",
    "t_number=(int)(T/t_step)\n",
    "t_step=Courrant*h\n",
    "gamma = 1.4\n",
    "N = int((xright-xleft)/h)\n",
    "q = 0.05"
   ]
  },
  {
   "cell_type": "code",
   "execution_count": 21,
   "metadata": {},
   "outputs": [],
   "source": [
    "f=np.zeros((3,N+1,t_number))\n",
    "f0 = np.zeros((3, N+1))\n",
    "f_middle = np.zeros((3, N+1))\n",
    "f1 = np.zeros((3, N+1))\n",
    "f1_smooth = np.zeros((3, N+1))\n",
    "Q_minus = np.zeros((3))\n",
    "Q_plus = np.zeros((3))"
   ]
  },
  {
   "cell_type": "code",
   "execution_count": 36,
   "metadata": {},
   "outputs": [],
   "source": [
    "def F(f,i):\n",
    "    F=np.zeros(3)\n",
    "    F[0]=f[1][i]\n",
    "    F[1]=f[1][i]**2/f[0][i] + (f[2][i]-f[1][i]**2/(2*f[0][i]))*(gamma-1)\n",
    "    F[2]=(f[1][i]/f[0][i])*(f[2][i]+(f[2][i]-f[1][i]**2/(2*f[0][i]))*(gamma-1))\n",
    "    return F"
   ]
  },
  {
   "cell_type": "code",
   "execution_count": 34,
   "metadata": {},
   "outputs": [],
   "source": [
    "def F_p(vector, param, coordn):\n",
    "    if param == 0:\n",
    "        return vector[1, coordn]\n",
    "    if param == 1:\n",
    "        return vector[1,coordn]**2/vector[0,coordn] + (vector[2,coordn]-vector[1,coordn]**2/(2*vector[0,coordn]))*(gamma-1)\n",
    "    if param == 2:\n",
    "        return (vector[1,coordn]/vector[0,coordn])*(vector[2,coordn]+(vector[2,coordn]-vector[1,coordn]**2/(2*vector[0,coordn]))*(gamma-1))"
   ]
  },
  {
   "cell_type": "code",
   "execution_count": 23,
   "metadata": {},
   "outputs": [],
   "source": [
    "p1 = 0.7\n",
    "p2 = 0.8\n",
    "ro1 = 0.9\n",
    "ro2 = 1.1\n",
    "u1 = 1\n",
    "u2 = 0.6"
   ]
  },
  {
   "cell_type": "code",
   "execution_count": 28,
   "metadata": {},
   "outputs": [],
   "source": [
    "def initial():\n",
    "    f[0][:int((xmiddle-xleft)/h),0] = ro1\n",
    "    f[0][int((xmiddle-xleft)/h)+1:,0] = ro2\n",
    "    \n",
    "    f[1][:int((xmiddle-xleft)/h),0] = ro1*u1\n",
    "    f[1][int((xmiddle-xleft)/h)+1:,0] = ro2*u2\n",
    "    \n",
    "    f[2][:int((xmiddle-xleft)/h),0] = p1/(gamma-1) + (ro1*u1)**2/(2*ro1)\n",
    "    f[2][int((xmiddle-xleft)/h)+1:,0] = p2/(gamma-1) + (ro2*u2)**2/(2*ro2)\n",
    "\n",
    "def edge(f):\n",
    "    f[0][0,n] = ro1\n",
    "    f[0][N,n] = ro2\n",
    "    \n",
    "    f[1][0,n] = ro1*u1\n",
    "    f[1][N,n] = ro2*u2\n",
    "    \n",
    "    f[2][0,n] = p1/(gamma-1) + (ro1*u1)**2/(2*ro1)\n",
    "    f[2][N,n] = p2/(gamma-1) + (ro2*u2)**2/(2*ro2)"
   ]
  },
  {
   "cell_type": "code",
   "execution_count": 29,
   "metadata": {},
   "outputs": [],
   "source": [
    "for i in range(0, int((xmiddle-xleft)/h)+1):\n",
    "    f0[0,i] = ro1\n",
    "    f0[1,i] = ro1*u1\n",
    "    f0[2,i] = p1/(gamma-1) + (ro1*u1)**2/(2*ro1)\n",
    "for i in range(int((xmiddle-xleft)/h)+1, N+1):\n",
    "    f0[0,i] = ro2\n",
    "    f0[1,i] = ro2*u2\n",
    "    f0[2,i] = p2/(gamma-1) + (ro2*u2)**2/(2*ro2)"
   ]
  },
  {
   "cell_type": "code",
   "execution_count": 30,
   "metadata": {},
   "outputs": [],
   "source": [
    "def edge_condition(param, side):\n",
    "    if side == 0:\n",
    "        if param == 0:\n",
    "            return ro1\n",
    "        if param == 1:\n",
    "            return ro1*u1\n",
    "        if param == 2:\n",
    "            return p1/(gamma-1) + (ro1*u1)**2/(2*ro1)\n",
    "    if side == 1:\n",
    "        if param == 0:\n",
    "            return ro2\n",
    "        if param == 1:\n",
    "            return ro2*u2\n",
    "        if param == 2:\n",
    "            return p2/(gamma-1) + (ro2*u2)**2/(2*ro2)   "
   ]
  },
  {
   "cell_type": "code",
   "execution_count": null,
   "metadata": {},
   "outputs": [],
   "source": []
  },
  {
   "cell_type": "code",
   "execution_count": 38,
   "metadata": {},
   "outputs": [],
   "source": [
    "def nextLayer(f0,n,smooth):\n",
    "    f=f0[:][:,n]\n",
    "    edge(f)\n",
    "    edge(f_middle)\n",
    "    edge(f1)\n",
    "    edge(f1_smooth)\n",
    "    \n",
    "    for i in range(1, N):\n",
    "        f_middle[:][i] = f[:][i]-Courrant*(F(f, i+1) - F(f,i))\n",
    "        f1[:][i] = (f[:][i] + f_middle[:][i])/2 - (Courrant/2)*(F(f_middle,i) - F(f_middle,i))\n",
    "    \n",
    "    if smooth==\"not smooth\":\n",
    "        return f1\n",
    "    else:\n",
    "        for j in range(1, N):\n",
    "            if (j-2)<0:\n",
    "                j_m2 = 0\n",
    "            else:\n",
    "                j_m2 = j-2\n",
    "            if (j+2)>N:\n",
    "                j_p2 = N\n",
    "            else:\n",
    "                j_p2 = j+2            \n",
    "            \n",
    "            Dmm = f1[0,j-1] - f1[0,j_m2]\n",
    "            Dm = f1[0,j] - f1[0,j-1]\n",
    "            Dp = f1[0,j+1] - f1[0,j]\n",
    "            Dpp = f1[0,j_p2] - f1[0,j+1]\n",
    "            if (Dmm*Dm <= 0) or (Dm*Dp <= 0):\n",
    "                Q_minus[:]  = f1[:][j] - f1[:][j-1]\n",
    "            else:\n",
    "                Q_minus[:]  = 0           \n",
    "            if (Dm*Dp <= 0) or (Dp*Dpp <= 0):\n",
    "                Q_plus[:]  = f1[:][j+1] - f1[:][j]                \n",
    "            else:\n",
    "                Q_plus[:]  = 0       \n",
    "    \n",
    "            f1_smooth[:][j] = f1[:][j] + q*(Q_plus[:]-Q_minus[:])\n",
    "                \n",
    "            return f1_smooth"
   ]
  },
  {
   "cell_type": "code",
   "execution_count": 13,
   "metadata": {},
   "outputs": [],
   "source": [
    "for n in range(0, int(T/tau)):\n",
    "    for side in range(0,2):\n",
    "        for param in range(0,3):\n",
    "            f0[param, side*N] = edge_condition(param, side)\n",
    "            f_middle[param, side*N] = edge_condition(param, side)\n",
    "            f1[param, side*N] = edge_condition(param, side)\n",
    "            f1_smooth[param, side*N] = edge_condition(param, side)\n",
    "    for i in range(1, N):\n",
    "        for param in range(0,3):\n",
    "            f_middle[param, i] = f0[param, i]-(tau/h)*(F_p(f0, param, i+1) - F_p(f0,param,i))\n",
    "        for param in range(0,3):\n",
    "            f1[param, i] = (f0[param, i] + f_middle[param, i])/2 - (tau/(2*h))*(F_p(f_middle,param,i) - F_p(f_middle,param,i-1))\n",
    "    for j in range(1, N):#smooth check\n",
    "        if (j-2)<0:\n",
    "            j_m2 = 0\n",
    "        else:\n",
    "            j_m2 = j-2\n",
    "        if (j+2)>N:\n",
    "            j_p2 = N\n",
    "        else:\n",
    "            j_p2 = j+2            \n",
    "        \n",
    "        Dmm = f1[0,j-1] - f1[0,j_m2]\n",
    "        Dm = f1[0,j] - f1[0,j-1]\n",
    "        Dp = f1[0,j+1] - f1[0,j]\n",
    "        Dpp = f1[0,j_p2] - f1[0,j+1]\n",
    "        if (Dmm*Dm <= 0) or (Dm*Dp <= 0):\n",
    "            for param in range(0,3):\n",
    "                Q_minus[param]  = f1[param,j] - f1[param, j-1]\n",
    "        else:\n",
    "            for param in range(0,3):\n",
    "                Q_minus[param]  = 0           \n",
    "        if (Dm*Dp <= 0) or (Dp*Dpp <= 0):\n",
    "            for param in range(0,3):\n",
    "                Q_plus[param]  = f1[param,j+1] - f1[param, j]                \n",
    "        else:\n",
    "            for param in range(0,3):\n",
    "                Q_plus[param]  = 0       \n",
    "                \n",
    "        for param in range(0,3):                \n",
    "            f1_smooth[param,j] = f1[param,j] + q*(Q_plus[param]-Q_minus[param])\n",
    "            \n",
    "    f0=np.copy(f1_smooth)\n",
    "    #f0=np.copy(f1)"
   ]
  },
  {
   "cell_type": "code",
   "execution_count": 42,
   "metadata": {},
   "outputs": [],
   "source": [
    "def getOriginal_r_p_v(f):\n",
    "    originals=np.zeros_like(f)\n",
    "    originals[0]=f[0]\n",
    "    originals[1]=(f[2]-f[1]**2/(2*f[0]))*(gamma-1)\n",
    "    originals[2]=f[1]/f[0]\n",
    "    return originals"
   ]
  },
  {
   "cell_type": "code",
   "execution_count": 14,
   "metadata": {},
   "outputs": [],
   "source": [
    "x = np.zeros((N+1))    \n",
    "for i in range(0, N+1):\n",
    "    x[i] = i*h\n",
    "density = np.zeros((N+1))\n",
    "for i in range(0, N+1):\n",
    "    density[i] = f0[0,i]\n",
    "\n",
    "pressure = np.zeros((N+1))\n",
    "for i in range(0, N+1):\n",
    "    pressure[i] = (f0[2,i]-f0[1,i]**2/(2*f0[0,i]))*(gamma-1)\n",
    "    #pressure[i] = F(f0, 1,i) - f0[1,i]**2/f0[0,i]\n",
    "    \n",
    "velocity= np.zeros((N+1))\n",
    "for i in range(0, N+1):\n",
    "    velocity[i] = f0[1,i]/f0[0,i]\n",
    "    \n",
    "E= np.zeros((N+1))\n",
    "for i in range(0, N+1):\n",
    "    E[i] = f0[2,i]"
   ]
  },
  {
   "cell_type": "code",
   "execution_count": 15,
   "metadata": {},
   "outputs": [
    {
     "data": {
      "image/png": "[encoded data removed]",
      "text/plain": [
       "<Figure size 432x288 with 1 Axes>"
      ]
     },
     "metadata": {},
     "output_type": "display_data"
    },
    {
     "data": {
      "image/png": "[encoded data removed]",
      "text/plain": [
       "<Figure size 432x288 with 1 Axes>"
      ]
     },
     "metadata": {},
     "output_type": "display_data"
    },
    {
     "data": {
      "image/png": "[encoded data removed]",
      "text/plain": [
       "<Figure size 432x288 with 1 Axes>"
      ]
     },
     "metadata": {},
     "output_type": "display_data"
    }
   ],
   "source": [
    "fig1 = plt.figure()\n",
    "ax1 = fig1.add_subplot(1, 1, 1)\n",
    "ax1.plot(x, density, color='deeppink')\n",
    "ax1.hlines( 1.140209431480403, 0, 2, color='black')\n",
    "ax1.hlines(1.267876959316555,0,2, color='black')\n",
    "ax1.set_xlabel('x')\n",
    "ax1.set_ylabel('density')\n",
    "ax1.grid()     \n",
    "\n",
    "fig2 = plt.figure()\n",
    "ax2 = fig2.add_subplot(1, 1, 1)\n",
    "ax2.plot(x, pressure, color='green')\n",
    "ax2.hlines(0.9763108174735985, 0, 2,color='black')\n",
    "ax2.set_xlabel('x')\n",
    "ax2.set_ylabel('pressure')\n",
    "ax2.grid() \n",
    "\n",
    "fig3 = plt.figure()\n",
    "ax3 = fig3.add_subplot(1, 1, 1)\n",
    "ax3.plot(x, velocity, color='orange')\n",
    "ax3.hlines(0.7456800659375024, 0, 2, color='black')\n",
    "ax3.set_xlabel('x')\n",
    "ax3.set_ylabel('velocity')\n",
    "ax3.grid() \n",
    "\n",
    "#fig4 = plt.figure()\n",
    "#ax4 = fig4.add_subplot(1, 1, 1)\n",
    "#ax4.plot(x, E, color='blue')\n",
    "#ax4.set_xlabel('x')\n",
    "#ax4.set_ylabel('E')\n",
    "#ax4.grid() "
   ]
  },
  {
   "cell_type": "code",
   "execution_count": null,
   "metadata": {},
   "outputs": [],
   "source": []
  }
 ],
 "metadata": {
  "kernelspec": {
   "display_name": "Python 3",
   "language": "python",
   "name": "python3"
  },
  "language_info": {
   "codemirror_mode": {
    "name": "ipython",
    "version": 3
   },
   "file_extension": ".py",
   "mimetype": "text/x-python",
   "name": "python",
   "nbconvert_exporter": "python",
   "pygments_lexer": "ipython3",
   "version": "3.6.5"
  }
 },
 "nbformat": 4,
 "nbformat_minor": 2
}
