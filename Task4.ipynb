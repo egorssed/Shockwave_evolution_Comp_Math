{
 "cells": [
  {
   "cell_type": "code",
   "execution_count": 1,
   "metadata": {},
   "outputs": [],
   "source": [
    "import numpy as np\n",
    "import matplotlib.pyplot as plt"
   ]
  },
  {
   "cell_type": "code",
   "execution_count": 2,
   "metadata": {},
   "outputs": [],
   "source": [
    "xleft = 0\n",
    "xright = 2\n",
    "xmiddle = 1\n",
    "h = (xright-xleft)/700\n",
    "T = 0.1\n",
    "tau = T/700\n",
    "gamma = 1.4\n",
    "N = int((xright-xleft)/h)\n",
    "q = 0.05"
   ]
  },
  {
   "cell_type": "code",
   "execution_count": 3,
   "metadata": {},
   "outputs": [],
   "source": [
    "f0 = np.zeros((3, N+1))\n",
    "f_middle = np.zeros((3, N+1))\n",
    "f1 = np.zeros((3, N+1))\n",
    "f1_smooth = np.zeros((3, N+1))\n",
    "Q_minus = np.zeros((3))\n",
    "Q_plus = np.zeros((3))"
   ]
  },
  {
   "cell_type": "code",
   "execution_count": 4,
   "metadata": {},
   "outputs": [],
   "source": [
    "def F(vector, param, coordn):\n",
    "    if param == 0:\n",
    "        return vector[1, coordn]\n",
    "    if param == 1:\n",
    "        return vector[1,coordn]**2/vector[0,coordn] + (vector[2,coordn]-vector[1,coordn]**2/(2*vector[0,coordn]))*(gamma-1)\n",
    "    if param == 2:\n",
    "        return (vector[1,coordn]/vector[0,coordn])*(vector[2,coordn]+(vector[2,coordn]-vector[1,coordn]**2/(2*vector[0,coordn]))*(gamma-1))"
   ]
  },
  {
   "cell_type": "code",
   "execution_count": 5,
   "metadata": {},
   "outputs": [],
   "source": [
    "p1 = 0.7\n",
    "p2 = 0.8\n",
    "ro1 = 0.9\n",
    "ro2 = 1.1\n",
    "u1 = 1\n",
    "u2 = 0.6"
   ]
  },
  {
   "cell_type": "code",
   "execution_count": 6,
   "metadata": {},
   "outputs": [],
   "source": [
    "for i in range(0, int((xmiddle-xleft)/h)+1):\n",
    "    f0[0,i] = ro1\n",
    "    f0[1,i] = ro1*u1\n",
    "    f0[2,i] = p1/(gamma-1) + (ro1*u1)**2/(2*ro1)\n",
    "for i in range(int((xmiddle-xleft)/h)+1, N+1):\n",
    "    f0[0,i] = ro2\n",
    "    f0[1,i] = ro2*u2\n",
    "    f0[2,i] = p2/(gamma-1) + (ro2*u2)**2/(2*ro2)"
   ]
  },
  {
   "cell_type": "code",
   "execution_count": 7,
   "metadata": {},
   "outputs": [],
   "source": [
    "def edge_condition(param, side):\n",
    "    if side == 0:\n",
    "        if param == 0:\n",
    "            return ro1\n",
    "        if param == 1:\n",
    "            return ro1*u1\n",
    "        if param == 2:\n",
    "            return p1/(gamma-1) + (ro1*u1)**2/(2*ro1)\n",
    "    if side == 1:\n",
    "        if param == 0:\n",
    "            return ro2\n",
    "        if param == 1:\n",
    "            return ro2*u2\n",
    "        if param == 2:\n",
    "            return p2/(gamma-1) + (ro2*u2)**2/(2*ro2)   "
   ]
  },
  {
   "cell_type": "code",
   "execution_count": 13,
   "metadata": {},
   "outputs": [],
   "source": [
    "for n in range(0, int(T/tau)):\n",
    "    for side in range(0,2):\n",
    "        for param in range(0,3):\n",
    "            f0[param, side*N] = edge_condition(param, side)\n",
    "            f_middle[param, side*N] = edge_condition(param, side)\n",
    "            f1[param, side*N] = edge_condition(param, side)\n",
    "            f1_smooth[param, side*N] = edge_condition(param, side)\n",
    "    for i in range(1, N):\n",
    "        for param in range(0,3):\n",
    "            f_middle[param, i] = f0[param, i]-(tau/h)*(F(f0, param, i+1) - F(f0,param,i))\n",
    "        for param in range(0,3):\n",
    "            f1[param, i] = (f0[param, i] + f_middle[param, i])/2 - (tau/(2*h))*(F(f_middle,param,i) - F(f_middle,param,i-1))\n",
    "    for j in range(1, N):\n",
    "        if (j-2)<0:\n",
    "            j_m2 = 0\n",
    "        else:\n",
    "            j_m2 = j-2\n",
    "        if (j+2)>N:\n",
    "            j_p2 = N\n",
    "        else:\n",
    "            j_p2 = j+2            \n",
    "        \n",
    "        Dmm = f1[0,j-1] - f1[0,j_m2]\n",
    "        Dm = f1[0,j] - f1[0,j-1]\n",
    "        Dp = f1[0,j+1] - f1[0,j]\n",
    "        Dpp = f1[0,j_p2] - f1[0,j+1]\n",
    "        if (Dmm*Dm <= 0) or (Dm*Dp <= 0):\n",
    "            for param in range(0,3):\n",
    "                Q_minus[param]  = f1[param,j] - f1[param, j-1]\n",
    "        else:\n",
    "            for param in range(0,3):\n",
    "                Q_minus[param]  = 0           \n",
    "        if (Dm*Dp <= 0) or (Dp*Dpp <= 0):\n",
    "            for param in range(0,3):\n",
    "                Q_plus[param]  = f1[param,j+1] - f1[param, j]                \n",
    "        else:\n",
    "            for param in range(0,3):\n",
    "                Q_plus[param]  = 0       \n",
    "                \n",
    "        for param in range(0,3):                \n",
    "            f1_smooth[param,j] = f1[param,j] + q*(Q_plus[param]-Q_minus[param])\n",
    "            \n",
    "    f0=np.copy(f1_smooth)\n",
    "    #f0=np.copy(f1)"
   ]
  },
  {
   "cell_type": "code",
   "execution_count": 14,
   "metadata": {},
   "outputs": [],
   "source": [
    "x = np.zeros((N+1))    \n",
    "for i in range(0, N+1):\n",
    "    x[i] = i*h\n",
    "density = np.zeros((N+1))\n",
    "for i in range(0, N+1):\n",
    "    density[i] = f0[0,i]\n",
    "\n",
    "pressure = np.zeros((N+1))\n",
    "for i in range(0, N+1):\n",
    "    pressure[i] = (f0[2,i]-f0[1,i]**2/(2*f0[0,i]))*(gamma-1)\n",
    "    #pressure[i] = F(f0, 1,i) - f0[1,i]**2/f0[0,i]\n",
    "    \n",
    "velocity= np.zeros((N+1))\n",
    "for i in range(0, N+1):\n",
    "    velocity[i] = f0[1,i]/f0[0,i]\n",
    "    \n",
    "E= np.zeros((N+1))\n",
    "for i in range(0, N+1):\n",
    "    E[i] = f0[2,i]"
   ]
  },
  {
   "cell_type": "code",
   "execution_count": null,
   "metadata": {},
   "outputs": [],
   "source": []
  }
 ],
 "metadata": {
  "kernelspec": {
   "display_name": "Python 3",
   "language": "python",
   "name": "python3"
  },
  "language_info": {
   "codemirror_mode": {
    "name": "ipython",
    "version": 3
   },
   "file_extension": ".py",
   "mimetype": "text/x-python",
   "name": "python",
   "nbconvert_exporter": "python",
   "pygments_lexer": "ipython3",
   "version": "3.6.5"
  }
 },
 "nbformat": 4,
 "nbformat_minor": 2
}
